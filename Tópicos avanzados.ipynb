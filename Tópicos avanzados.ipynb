{
 "cells": [
  {
   "attachments": {
    "image.png": {
     "image/png": "[encoded data removed]"
    }
   },
   "cell_type": "markdown",
   "id": "7c37e105",
   "metadata": {},
   "source": [
    "![image.png](attachment:image.png)"
   ]
  },
  {
   "cell_type": "code",
   "execution_count": 1,
   "id": "798b0fea",
   "metadata": {},
   "outputs": [],
   "source": [
    "# importamos sqlite3 y creamos la conección a la BD Ventas y creamos la BD\n",
    "import sqlite3\n",
    "conn = sqlite3.connect('Ventas.db')"
   ]
  },
  {
   "cell_type": "code",
   "execution_count": 2,
   "id": "efb1149d",
   "metadata": {},
   "outputs": [],
   "source": [
    "cur = conn.cursor()"
   ]
  },
  {
   "cell_type": "code",
   "execution_count": 3,
   "id": "82bc1d3f",
   "metadata": {},
   "outputs": [],
   "source": [
    "# abrimos el archivo1 csv\n",
    "import os\n",
    "import csv\n",
    "\n",
    "os.chdir('C:/Users/Isaac')\n",
    "with open('Productos.csv') as f:\n",
    "    reader = csv.reader(f)\n",
    "    data = list(reader)"
   ]
  },
  {
   "cell_type": "code",
   "execution_count": 4,
   "id": "7e3f02fd",
   "metadata": {},
   "outputs": [
    {
     "data": {
      "text/plain": [
       "[['IdProducto', 'NombreProducto', 'Precio', 'UnidadesVendidas', 'fechaventa'],\n",
       " ['10100', 'Formula Chocolate', '1870', '25', '01/01/2024'],\n",
       " ['10101', 'Proteina Vainilla', '1670', '35', '02/01/2024'],\n",
       " ['10102', 'Te manzana', '340', '17', '03/02/2024'],\n",
       " ['10103', 'Te Chai', '450', '22', '04/02/2024'],\n",
       " ['10104', 'Ponche Frutas', '570', '45', '05/03/2024'],\n",
       " ['10105', 'Colageno', '960', '29', '06/03/2024'],\n",
       " ['10106', 'Fibra', '700', '17', '07/03/2024'],\n",
       " ['10107', 'Calcio', '340', '32', '08/04/2024'],\n",
       " ['10108', 'Liftoff', '1300', '40', '09/04/2024'],\n",
       " ['10109', 'Aloe Mandarina', '610', '320', '10/04/2024'],\n",
       " ['10110', 'Aloe Mandarina', '610', '380', '11/05/2024'],\n",
       " ['10111', 'Aloe Uva', '610', '420', '12/05/2024'],\n",
       " ['10112', 'Aloe Uva', '610', '320', '13/06/2024'],\n",
       " ['10113', 'Formula Galleta', '1870', '86', '14/06/2024'],\n",
       " ['10114', 'Formula Galleta', '1870', '99', '15/07/2024'],\n",
       " ['10115', 'Fibra', '700', '65', '16/07/2024'],\n",
       " ['10116', 'Calcio', '340', '34', '17/07/2024'],\n",
       " ['10117', 'Proteina Vainilla', '1670', '33', '18/07/2024'],\n",
       " ['10118', 'Formula Fresa', '1870', '200', '19/08/2024']]"
      ]
     },
     "execution_count": 4,
     "metadata": {},
     "output_type": "execute_result"
    }
   ],
   "source": [
    "data"
   ]
  },
  {
   "cell_type": "code",
   "execution_count": 5,
   "id": "2e844e1a",
   "metadata": {},
   "outputs": [
    {
     "data": {
      "text/plain": [
       "20"
      ]
     },
     "execution_count": 5,
     "metadata": {},
     "output_type": "execute_result"
    }
   ],
   "source": [
    "len(data)"
   ]
  },
  {
   "cell_type": "code",
   "execution_count": 6,
   "id": "27c3079f",
   "metadata": {},
   "outputs": [
    {
     "data": {
      "text/plain": [
       "<sqlite3.Cursor at 0x1647afcc2c0>"
      ]
     },
     "execution_count": 6,
     "metadata": {},
     "output_type": "execute_result"
    }
   ],
   "source": [
    "# creamos la Tabla Productos\n",
    "cur.execute('''\n",
    "    CREATE TABLE Productos(\n",
    "     IdProducto INTEGER PRIMARY KEY,\n",
    "     NombreProducto TEXTO,\n",
    "     Precio INTEGER,\n",
    "     UnidadesVendidas INTEGER,\n",
    "     fechaventa DATE);\n",
    "''')"
   ]
  },
  {
   "cell_type": "code",
   "execution_count": 8,
   "id": "802ef9b7",
   "metadata": {},
   "outputs": [],
   "source": [
    "# insertamos Datos en la Tabla Productos del archivo CSV\n",
    "\n",
    "for renglon in range(1, len(data)):\n",
    "    cur.execute(''' INSERT INTO Productos('IdProducto', 'NombreProducto', 'Precio', 'UnidadesVendidas', 'fechaventa')\n",
    "                VALUEs (?,?,?,?,?)\n",
    "    ''',data[renglon])"
   ]
  },
  {
   "cell_type": "code",
   "execution_count": 9,
   "id": "367b4eef",
   "metadata": {},
   "outputs": [],
   "source": [
    "conn.commit()"
   ]
  },
  {
   "cell_type": "code",
   "execution_count": 10,
   "id": "daaa5d48",
   "metadata": {},
   "outputs": [],
   "source": [
    "# abrimos el archivo 2 csv\n",
    "os.chdir('C:/Users/Isaac')\n",
    "with open('Clientes.csv') as f:\n",
    "    reader = csv.reader(f)\n",
    "    data = list(reader)"
   ]
  },
  {
   "cell_type": "code",
   "execution_count": 11,
   "id": "29b0d6f0",
   "metadata": {},
   "outputs": [
    {
     "data": {
      "text/plain": [
       "[['IdProducto', 'NombreCliente', 'Direccion'],\n",
       " ['10100', 'Carlos Ramirez', 'Calle 21 lote 10'],\n",
       " ['10101', 'Fernanda Ruiz', 'calle 22 lote 11'],\n",
       " ['10102', 'Rosa Torres', 'Calle 23 lote 12'],\n",
       " ['10103', 'Juan Mendoza', 'calle 24 lote 13'],\n",
       " ['10104', 'Jaime Robles', 'Calle 24 lote 14'],\n",
       " ['10105', 'Pedro Vargas', 'calle 26 lote 15'],\n",
       " ['10106', 'Pedro Infante', 'Calle 27 lote 13'],\n",
       " ['10107', 'Luis Miguel', 'calle 28 lote 14'],\n",
       " ['10108', 'Jaime Camil', 'Calle 29 lote 14'],\n",
       " ['10109', 'Teresa Mendoza', 'calle 30 lote 1'],\n",
       " ['10110', 'Gabriel Lopez', 'Calle 31 lote 2'],\n",
       " ['10111', 'Dulce Peres', 'calle 33 lote 4'],\n",
       " ['10112', 'Reyna Perez', 'Calle 34 lote 5'],\n",
       " ['10113', 'Jorge Ramirez', 'calle 50 lote 17'],\n",
       " ['10114', 'Diego Fuentes', 'Calle 39 lote 17'],\n",
       " ['10115', 'Laura Diaz', 'calle 22 lote 18'],\n",
       " ['10116', 'Susana Gomez', 'Calle 122 lote 18'],\n",
       " ['10117', 'Diana Reyes', 'calle 104 lote 19'],\n",
       " ['10118', 'Fabiola Vazquez', 'Calle 105 lote 19']]"
      ]
     },
     "execution_count": 11,
     "metadata": {},
     "output_type": "execute_result"
    }
   ],
   "source": [
    "data"
   ]
  },
  {
   "cell_type": "code",
   "execution_count": 12,
   "id": "3302f033",
   "metadata": {},
   "outputs": [
    {
     "data": {
      "text/plain": [
       "20"
      ]
     },
     "execution_count": 12,
     "metadata": {},
     "output_type": "execute_result"
    }
   ],
   "source": [
    "len(data)"
   ]
  },
  {
   "cell_type": "code",
   "execution_count": 13,
   "id": "0900c9f3",
   "metadata": {},
   "outputs": [
    {
     "data": {
      "text/plain": [
       "<sqlite3.Cursor at 0x1647afcc2c0>"
      ]
     },
     "execution_count": 13,
     "metadata": {},
     "output_type": "execute_result"
    }
   ],
   "source": [
    "# creamos la Tabla Clientes\n",
    "cur.execute('''\n",
    "    CREATE TABLE Clientes(\n",
    "     IdProducto INTEGER PRIMARY KEY,\n",
    "     NombreCliente TEXTO,\n",
    "     Direccion TEXTO);\n",
    "''')"
   ]
  },
  {
   "cell_type": "code",
   "execution_count": 14,
   "id": "6552e2fb",
   "metadata": {},
   "outputs": [],
   "source": [
    "# insertamos Datos en la Tabla Clientes del archivo CSV\n",
    "\n",
    "for renglon in range(1, len(data)):\n",
    "    cur.execute(''' INSERT INTO Clientes('IdProducto', 'NombreCliente', 'Direccion')\n",
    "                VALUEs (?,?,?)\n",
    "    ''',data[renglon])"
   ]
  },
  {
   "cell_type": "code",
   "execution_count": 15,
   "id": "6194feba",
   "metadata": {},
   "outputs": [],
   "source": [
    "conn.commit()"
   ]
  },
  {
   "attachments": {
    "image.png": {
     "image/png": "[encoded data removed]"
    }
   },
   "cell_type": "markdown",
   "id": "62e154a9",
   "metadata": {},
   "source": [
    "![image.png](attachment:image.png)"
   ]
  },
  {
   "cell_type": "code",
   "execution_count": 16,
   "id": "9e0ce28e",
   "metadata": {},
   "outputs": [
    {
     "data": {
      "text/plain": [
       "[('Carlos Ramirez', 'Formula Chocolate', 25),\n",
       " ('Fernanda Ruiz', 'Proteina Vainilla', 35),\n",
       " ('Rosa Torres', 'Te manzana', 17),\n",
       " ('Juan Mendoza', 'Te Chai', 22),\n",
       " ('Jaime Robles', 'Ponche Frutas', 45),\n",
       " ('Pedro Vargas', 'Colageno', 29),\n",
       " ('Pedro Infante', 'Fibra', 17),\n",
       " ('Luis Miguel', 'Calcio', 32),\n",
       " ('Jaime Camil', 'Liftoff', 40),\n",
       " ('Teresa Mendoza', 'Aloe Mandarina', 320),\n",
       " ('Gabriel Lopez', 'Aloe Mandarina', 380),\n",
       " ('Dulce Peres', 'Aloe Uva', 420),\n",
       " ('Reyna Perez', 'Aloe Uva', 320),\n",
       " ('Jorge Ramirez', 'Formula Galleta', 86),\n",
       " ('Diego Fuentes', 'Formula Galleta', 99),\n",
       " ('Laura Diaz', 'Fibra', 65),\n",
       " ('Susana Gomez', 'Calcio', 34),\n",
       " ('Diana Reyes', 'Proteina Vainilla', 33),\n",
       " ('Fabiola Vazquez', 'Formula Fresa', 200)]"
      ]
     },
     "execution_count": 16,
     "metadata": {},
     "output_type": "execute_result"
    }
   ],
   "source": [
    "# Mostrar el nombre del cliente, nombre del producto y las unidades vendidas\n",
    "cur.execute('''\n",
    "    SELECT c.NombreCliente, p.NombreProducto, p.UnidadesVendidas\n",
    "    FROM Productos AS p\n",
    "    INNER JOIN Clientes AS c\n",
    "    ON p.IdProducto = c.IdProducto\n",
    "''') \n",
    "res = cur.fetchall()\n",
    "res"
   ]
  },
  {
   "cell_type": "code",
   "execution_count": 17,
   "id": "8ec276d6",
   "metadata": {},
   "outputs": [
    {
     "data": {
      "text/plain": [
       "[('Formula Chocolate', 'Carlos Ramirez', 'Calle 21 lote 10', '01/01/2024'),\n",
       " ('Proteina Vainilla', 'Fernanda Ruiz', 'calle 22 lote 11', '02/01/2024'),\n",
       " ('Te manzana', 'Rosa Torres', 'Calle 23 lote 12', '03/02/2024'),\n",
       " ('Te Chai', 'Juan Mendoza', 'calle 24 lote 13', '04/02/2024'),\n",
       " ('Ponche Frutas', 'Jaime Robles', 'Calle 24 lote 14', '05/03/2024'),\n",
       " ('Colageno', 'Pedro Vargas', 'calle 26 lote 15', '06/03/2024'),\n",
       " ('Fibra', 'Pedro Infante', 'Calle 27 lote 13', '07/03/2024'),\n",
       " ('Calcio', 'Luis Miguel', 'calle 28 lote 14', '08/04/2024'),\n",
       " ('Liftoff', 'Jaime Camil', 'Calle 29 lote 14', '09/04/2024'),\n",
       " ('Aloe Mandarina', 'Teresa Mendoza', 'calle 30 lote 1', '10/04/2024'),\n",
       " ('Aloe Mandarina', 'Gabriel Lopez', 'Calle 31 lote 2', '11/05/2024'),\n",
       " ('Aloe Uva', 'Dulce Peres', 'calle 33 lote 4', '12/05/2024'),\n",
       " ('Aloe Uva', 'Reyna Perez', 'Calle 34 lote 5', '13/06/2024'),\n",
       " ('Formula Galleta', 'Jorge Ramirez', 'calle 50 lote 17', '14/06/2024'),\n",
       " ('Formula Galleta', 'Diego Fuentes', 'Calle 39 lote 17', '15/07/2024'),\n",
       " ('Fibra', 'Laura Diaz', 'calle 22 lote 18', '16/07/2024'),\n",
       " ('Calcio', 'Susana Gomez', 'Calle 122 lote 18', '17/07/2024'),\n",
       " ('Proteina Vainilla', 'Diana Reyes', 'calle 104 lote 19', '18/07/2024'),\n",
       " ('Formula Fresa', 'Fabiola Vazquez', 'Calle 105 lote 19', '19/08/2024')]"
      ]
     },
     "execution_count": 17,
     "metadata": {},
     "output_type": "execute_result"
    }
   ],
   "source": [
    "# LEFT JOIN\n",
    "# Para cada producto en la tabla Productos, la consulta muestra el nombre del cliente que lo compró,\n",
    "# su dirección, y la fecha en que se realizó la venta.\n",
    "\n",
    "cur.execute('''\n",
    "    SELECT p.NombreProducto, c.NombreCliente, c.Direccion, p.fechaventa\n",
    "    FROM Productos AS p\n",
    "    LEFT JOIN Clientes AS c\n",
    "    ON p.IdProducto = c.IdProducto\n",
    "''')\n",
    "res = cur.fetchall()\n",
    "res"
   ]
  },
  {
   "attachments": {
    "image.png": {
     "image/png": "[encoded data removed]"
    }
   },
   "cell_type": "markdown",
   "id": "26ebf023",
   "metadata": {},
   "source": [
    "![image.png](attachment:image.png)"
   ]
  },
  {
   "cell_type": "code",
   "execution_count": 22,
   "id": "f3d7c194",
   "metadata": {},
   "outputs": [
    {
     "data": {
      "text/plain": [
       "[('Formula Chocolate', 25, 'Nivel aceptable de venta'),\n",
       " ('Proteina Vainilla', 35, 'Nivel aceptable de venta'),\n",
       " ('Te Chai', 22, 'Nivel aceptable de venta'),\n",
       " ('Ponche Frutas', 45, 'Nivel aceptable de venta'),\n",
       " ('Colageno', 29, 'Nivel aceptable de venta'),\n",
       " ('Calcio', 32, 'Nivel aceptable de venta'),\n",
       " ('Liftoff', 40, 'Nivel aceptable de venta'),\n",
       " ('Calcio', 34, 'Nivel aceptable de venta'),\n",
       " ('Proteina Vainilla', 33, 'Nivel aceptable de venta'),\n",
       " ('Te manzana', 17, 'Nivel bajo de venta'),\n",
       " ('Fibra', 17, 'Nivel bajo de venta'),\n",
       " ('Aloe Mandarina', 320, 'Nivel optimo de venta'),\n",
       " ('Aloe Mandarina', 380, 'Nivel optimo de venta'),\n",
       " ('Aloe Uva', 420, 'Nivel optimo de venta'),\n",
       " ('Aloe Uva', 320, 'Nivel optimo de venta'),\n",
       " ('Formula Galleta', 86, 'Nivel optimo de venta'),\n",
       " ('Formula Galleta', 99, 'Nivel optimo de venta'),\n",
       " ('Fibra', 65, 'Nivel optimo de venta'),\n",
       " ('Formula Fresa', 200, 'Nivel optimo de venta')]"
      ]
     },
     "execution_count": 22,
     "metadata": {},
     "output_type": "execute_result"
    }
   ],
   "source": [
    "# Agrupar de acuerdo a la cantidad de unidades vendidas por producto y categorizar las ventas (bajo, aceptable, optimo)\n",
    "\n",
    "cur.execute('''\n",
    "    SELECT NombreProducto, UnidadesVendidas,\n",
    "    CASE WHEN UnidadesVendidas < 20 THEN 'Nivel bajo de venta'\n",
    "    WHEN UnidadesVendidas <= 50 THEN 'Nivel aceptable de venta'\n",
    "    ELSE 'Nivel optimo de venta' END AS NivelVentas\n",
    "    FROM Productos\n",
    "    ORDER BY NivelVentas\n",
    "''')\n",
    "res = cur.fetchall()\n",
    "res"
   ]
  },
  {
   "attachments": {
    "image.png": {
     "image/png": "[encoded data removed]"
    }
   },
   "cell_type": "markdown",
   "id": "c6d7d8f9",
   "metadata": {},
   "source": [
    "![image.png](attachment:image.png)"
   ]
  },
  {
   "cell_type": "code",
   "execution_count": 42,
   "id": "eadb6a21",
   "metadata": {},
   "outputs": [
    {
     "data": {
      "text/plain": [
       "[(10102, 'Rosa Torres'),\n",
       " (10103, 'Juan Mendoza'),\n",
       " (10107, 'Luis Miguel'),\n",
       " (10116, 'Susana Gomez')]"
      ]
     },
     "execution_count": 42,
     "metadata": {},
     "output_type": "execute_result"
    }
   ],
   "source": [
    "# Obtener IdProducto y Nombre del cliente  de la tabla 1 donde precios de la tabla 2 sea menores a 500\n",
    "cur.execute('''\n",
    "    SELECT IdProducto, NombreCliente\n",
    "    FROM Clientes\n",
    "    WHERE IdProducto IN\n",
    "    (SELECT IdProducto\n",
    "      FROM Productos\n",
    "      WHERE Precio < 500)\n",
    "''')\n",
    "res = cur.fetchall()\n",
    "res"
   ]
  },
  {
   "cell_type": "code",
   "execution_count": 41,
   "id": "8f8cdf77",
   "metadata": {},
   "outputs": [
    {
     "data": {
      "text/plain": [
       "[(10100, 'Carlos Ramirez'),\n",
       " (10102, 'Rosa Torres'),\n",
       " (10103, 'Juan Mendoza'),\n",
       " (10105, 'Pedro Vargas'),\n",
       " (10106, 'Pedro Infante')]"
      ]
     },
     "execution_count": 41,
     "metadata": {},
     "output_type": "execute_result"
    }
   ],
   "source": [
    "# Obtener IdProducto y Nombre del cliente  de la tabla 1 donde unidades vendidas de la tabla 2 sea menores a 30\n",
    "cur.execute('''\n",
    "    SELECT IdProducto, NombreCliente\n",
    "    FROM Clientes\n",
    "    WHERE IdProducto IN\n",
    "        (SELECT IdProducto\n",
    "         FROM Productos\n",
    "         WHERE UnidadesVendidas < 30)\n",
    "''')\n",
    "res = cur.fetchall()\n",
    "res"
   ]
  },
  {
   "cell_type": "code",
   "execution_count": 45,
   "id": "41da1cd7",
   "metadata": {},
   "outputs": [
    {
     "data": {
      "text/plain": [
       "[(10109, 'Teresa Mendoza'),\n",
       " (10110, 'Gabriel Lopez'),\n",
       " (10111, 'Dulce Peres'),\n",
       " (10112, 'Reyna Perez'),\n",
       " (10118, 'Fabiola Vazquez')]"
      ]
     },
     "execution_count": 45,
     "metadata": {},
     "output_type": "execute_result"
    }
   ],
   "source": [
    "# Subquery para seleccionar aquellos clientes cuyo Unidades Vendidas es mayor al promedio general\n",
    "cur.execute('''\n",
    "    SELECT c.IdProducto, c.NombreCliente\n",
    "    FROM Clientes AS c\n",
    "    WHERE c.IdProducto IN\n",
    "      (SELECT p.IdProducto\n",
    "       FROM Productos AS p\n",
    "         WHERE p.UnidadesVendidas > \n",
    "           (SELECT AVG(UnidadesVendidas) \n",
    "            FROM Productos))\n",
    "''')\n",
    "res = cur.fetchall()\n",
    "res"
   ]
  },
  {
   "cell_type": "code",
   "execution_count": null,
   "id": "0dced99f",
   "metadata": {},
   "outputs": [],
   "source": []
  }
 ],
 "metadata": {
  "kernelspec": {
   "display_name": "Python 3 (ipykernel)",
   "language": "python",
   "name": "python3"
  },
  "language_info": {
   "codemirror_mode": {
    "name": "ipython",
    "version": 3
   },
   "file_extension": ".py",
   "mimetype": "text/x-python",
   "name": "python",
   "nbconvert_exporter": "python",
   "pygments_lexer": "ipython3",
   "version": "3.11.5"
  }
 },
 "nbformat": 4,
 "nbformat_minor": 5
}
